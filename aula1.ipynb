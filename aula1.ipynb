{
  "nbformat": 4,
  "nbformat_minor": 0,
  "metadata": {
    "colab": {
      "provenance": [],
      "include_colab_link": true
    },
    "kernelspec": {
      "name": "python3",
      "display_name": "Python 3"
    },
    "language_info": {
      "name": "python"
    }
  },
  "cells": [
    {
      "cell_type": "markdown",
      "metadata": {
        "id": "view-in-github",
        "colab_type": "text"
      },
      "source": [
        "<a href=\"https://colab.research.google.com/github/roxacarv/FundamentosCriptografia/blob/master/aula1.ipynb\" target=\"_parent\"><img src=\"https://colab.research.google.com/assets/colab-badge.svg\" alt=\"Open In Colab\"/></a>"
      ]
    },
    {
      "cell_type": "code",
      "source": [
        "alphabet = [\n",
        "    'a', 'b', 'c', 'd', 'e', 'f', 'g', 'h', 'i', 'j', 'k', 'l', 'm',\n",
        "    'n', 'o', 'p', 'q', 'r', 's', 't', 'u', 'v', 'w', 'x', 'y', 'z'\n",
        "]\n",
        "\n",
        "accent_map = {\n",
        "    'á': 'a', 'à': 'a', 'ä': 'a', 'â': 'a',\n",
        "    'é': 'e', 'è': 'e', 'ë': 'e', 'ê': 'e',\n",
        "    'í': 'i', 'ì': 'i', 'ï': 'i', 'î': 'i',\n",
        "    'ó': 'o', 'ò': 'o', 'ö': 'o', 'ô': 'o',\n",
        "    'ú': 'u', 'ù': 'u', 'ü': 'u', 'û': 'u',\n",
        "    'ñ': 'n', 'ç': 'c',\n",
        "    'Á': 'A', 'À': 'A', 'Ä': 'A', 'Â': 'A',\n",
        "    'É': 'E', 'È': 'E', 'Ë': 'E', 'Ê': 'E',\n",
        "    'Í': 'I', 'Ì': 'I', 'Ï': 'I', 'Î': 'I',\n",
        "    'Ó': 'O', 'Ò': 'O', 'Ö': 'O', 'Ô': 'O',\n",
        "    'Ú': 'U', 'Ù': 'U', 'Ü': 'U', 'Û': 'U',\n",
        "    'Ñ': 'N', 'Ç': 'C'\n",
        "} # 224 - 230 (a), 231 (ç), 232 - 235 (e), 236 - 239 (i), 241 (ñ), 242 - 246 (o), 249 - 252 (u)\n",
        "\n",
        "accent_map_ord = {\n",
        "    224: 'a', 225: 'a', 226: 'a', 227: 'a', 228: 'a', 229: 'a', 230: 'a',\n",
        "    231: 'c',\n",
        "    232: 'e', 233: 'e', 234: 'e', 235: 'e',\n",
        "    236: 'i', 237: 'i', 238: 'i', 239: 'i',\n",
        "    241: 'n',\n",
        "    242: 'o', 243: 'o', 244: 'o', 245: 'o', 246: 'o',\n",
        "    249: 'u', 250: 'u', 251: 'u', 252: 'u'\n",
        "}\n",
        "\n",
        "# import time\n",
        "\n",
        "rangeA = 224\n",
        "rangeB = 252\n",
        "\n",
        "def normalize_case(text: str) -> list:\n",
        "  no_cases = text.lower()\n",
        "  return no_cases\n",
        "\n",
        "def normalize_spaces(text: str) -> list:\n",
        "  no_spaces = text.replace(\" \", \"\")\n",
        "  return no_spaces\n",
        "\n",
        "def normalize_by_alphabet(text: str) -> list:\n",
        "  odd_chars = list()\n",
        "  for i in text:\n",
        "    if not i in alphabet:\n",
        "      odd_chars.append(i)\n",
        "  return odd_chars\n",
        "\n",
        "def in_between_v(v: int, a: int, b: int) -> bool:\n",
        "  if a <= v <= b:\n",
        "    return True\n",
        "  return False\n",
        "\n",
        "def normalize_accents_range(text: str) -> list: # A bit slower. Optimize?\n",
        "  cleaned = \"\"\n",
        "  for c in text:\n",
        "    if rangeA <= ord(c) <= rangeB:\n",
        "      cleaned += accent_map_ord[ord(c)]\n",
        "    else:\n",
        "      cleaned += c\n",
        "  return cleaned\n",
        "\n",
        "def normalize_accents_in(text: str) -> list: # Use this\n",
        "  cleaned = \"\"\n",
        "  for c in text:\n",
        "    if c in accent_map:\n",
        "      cleaned += accent_map[c]\n",
        "    else:\n",
        "      cleaned += c\n",
        "  return cleaned\n",
        "\n",
        "def rem_spec_char(text: str):\n",
        "  has_special = [char for char in text if char.isalnum()]\n",
        "  return has_special\n",
        "\n",
        "def rem_nums(text: str):\n",
        "  has_numbers = [num for num in text if not num.isdigit()]\n",
        "  return has_numbers\n",
        "\n",
        "def clean_text(text: str) -> list:\n",
        "  no_cases = normalize_case(text)\n",
        "  no_spaces = normalize_spaces(no_cases)\n",
        "  no_accents = normalize_accents_in(no_spaces)\n",
        "  no_spec = rem_spec_char(no_accents)\n",
        "  no_all = rem_nums(no_spec)\n",
        "  return no_all\n",
        "\n",
        "print(clean_text(\"É complicado &@¨SNhW00(@())\"))\n",
        "\n"
      ],
      "metadata": {
        "colab": {
          "base_uri": "https://localhost:8080/"
        },
        "id": "Fcf7ifWhs3DP",
        "outputId": "5111d2c6-1949-4b0b-be6b-60acc47203a5"
      },
      "execution_count": 1,
      "outputs": [
        {
          "output_type": "stream",
          "name": "stdout",
          "text": [
            "['e', 'c', 'o', 'm', 'p', 'l', 'i', 'c', 'a', 'd', 'o', 's', 'n', 'h', 'w']\n"
          ]
        }
      ]
    },
    {
      "cell_type": "code",
      "execution_count": null,
      "metadata": {
        "colab": {
          "base_uri": "https://localhost:8080/"
        },
        "id": "Vp_edzBppZa0",
        "outputId": "1965905b-9799-4504-dab7-2459f60c7762"
      },
      "outputs": [
        {
          "output_type": "stream",
          "name": "stdout",
          "text": [
            "The letter a has the code 97\n",
            "The letter á has the code 225\n",
            "The letter à has the code 224\n",
            "The letter â has the code 226\n",
            "The letter ã has the code 227\n",
            "The letter ä has the code 228\n",
            "['a', 'b', 'c', 'd', 'e', 'f', 'g', 'h', 'i', 'j', 'k', 'l', 'm', 'n', 'o', 'p', 'q', 'r', 's', 't', 'u', 'v', 'w', 'x', 'y', 'z']\n"
          ]
        }
      ],
      "source": [
        "letters = [\n",
        "    \"a\", \"á\", \"à\", \"â\", \"ã\", \"ä\"\n",
        "]\n",
        "\n",
        "for l in letters:\n",
        "  print(f\"The letter {l} has the code {ord(l)}\")\n",
        "\n",
        "def char_range(c1: str, c2: str) -> None:\n",
        "  f = list()\n",
        "  for i in range(ord(c1), ord(c2)+1):\n",
        "    f += [chr(i)]\n",
        "  print(f)\n",
        "\n",
        "char_range(\"a\", \"z\")"
      ]
    },
    {
      "cell_type": "code",
      "source": [
        "accent_map = {\n",
        "    'á': 'a', 'à': 'a', 'ä': 'a', 'â': 'a',\n",
        "    'ã': 'a',\n",
        "    'é': 'e', 'è': 'e', 'ë': 'e', 'ê': 'e',\n",
        "    'í': 'i', 'ì': 'i', 'ï': 'i', 'î': 'i',\n",
        "    'ó': 'o', 'ò': 'o', 'ö': 'o', 'ô': 'o',\n",
        "    'ú': 'u', 'ù': 'u', 'ü': 'u', 'û': 'u',\n",
        "    'ñ': 'n', 'ç': 'c',\n",
        "    'Á': 'A', 'À': 'A', 'Ä': 'A', 'Â': 'A',\n",
        "    'É': 'E', 'È': 'E', 'Ë': 'E', 'Ê': 'E',\n",
        "    'Í': 'I', 'Ì': 'I', 'Ï': 'I', 'Î': 'I',\n",
        "    'Ó': 'O', 'Ò': 'O', 'Ö': 'O', 'Ô': 'O',\n",
        "    'Ú': 'U', 'Ù': 'U', 'Ü': 'U', 'Û': 'U',\n",
        "    'Ñ': 'N', 'Ç': 'C'\n",
        "} # 224 - 230 (a), 231 (ç), 232 - 235 (e), 236 - 239 (i), 241 (ñ), 242 - 246 (o), 249 - 252 (u)\n",
        "\n",
        "tc = list()\n",
        "\n",
        "for c in accent_map.keys():\n",
        "  tc.append(ord(c.lower()))\n",
        "  tc = list(set(tc))\n",
        "\n",
        "tc.sort()\n",
        "print(tc)\n",
        "\n",
        "for i in tc:\n",
        "  print(chr(i))\n",
        "\n",
        "print(chr(240))\n",
        "print(chr(222))"
      ],
      "metadata": {
        "colab": {
          "base_uri": "https://localhost:8080/"
        },
        "id": "CDM9ZOQCyJhH",
        "outputId": "17bf149e-3637-4b93-ea23-4a8cbe4f0b2f"
      },
      "execution_count": null,
      "outputs": [
        {
          "output_type": "stream",
          "name": "stdout",
          "text": [
            "[224, 225, 226, 227, 228, 231, 232, 233, 234, 235, 236, 237, 238, 239, 241, 242, 243, 244, 246, 249, 250, 251, 252]\n",
            "à\n",
            "á\n",
            "â\n",
            "ã\n",
            "ä\n",
            "ç\n",
            "è\n",
            "é\n",
            "ê\n",
            "ë\n",
            "ì\n",
            "í\n",
            "î\n",
            "ï\n",
            "ñ\n",
            "ò\n",
            "ó\n",
            "ô\n",
            "ö\n",
            "ù\n",
            "ú\n",
            "û\n",
            "ü\n",
            "ð\n",
            "Þ\n"
          ]
        }
      ]
    }
  ]
}